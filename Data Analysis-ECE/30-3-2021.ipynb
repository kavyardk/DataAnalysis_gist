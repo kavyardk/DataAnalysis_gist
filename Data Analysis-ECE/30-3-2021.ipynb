{
 "cells": [
  {
   "cell_type": "markdown",
   "metadata": {},
   "source": [
    "# Data Analysis\n",
    "## Data Analysis\n",
    "### Data Analysis\n",
    "#### Data Analysis\n",
    "##### Data Analysis\n",
    "###### Data Analysis\n",
    "\n"
   ]
  },
  {
   "cell_type": "code",
   "execution_count": null,
   "metadata": {},
   "outputs": [],
   "source": []
  },
  {
   "cell_type": "markdown",
   "metadata": {},
   "source": []
  },
  {
   "cell_type": "code",
   "execution_count": 1,
   "metadata": {},
   "outputs": [],
   "source": [
    "### python\n",
    "#### python\n",
    "##### python\n",
    "###### python\n",
    "###### python"
   ]
  },
  {
   "cell_type": "markdown",
   "metadata": {},
   "source": []
  },
  {
   "cell_type": "markdown",
   "metadata": {},
   "source": [
    "### Python\n",
    "- List\n",
    "    - []\n",
    "- Tuple\n",
    "    - ()\n",
    "- Strings\n",
    "    - \" \" or ' '\n",
    "- Dict\n",
    "    - {}\n",
    "- Sets\n",
    "    - {}\n",
    "- Files\n",
    "- Functions\n",
    "- Oops"
   ]
  },
  {
   "cell_type": "markdown",
   "metadata": {},
   "source": [
    "- Welcome to the  world\n",
    "- **Welcome to the world**\n",
    "- ***Welcome to the world***\n"
   ]
  },
  {
   "cell_type": "markdown",
   "metadata": {},
   "source": [
    "## Python Libraries\n",
    "- Numpy"
   ]
  },
  {
   "cell_type": "markdown",
   "metadata": {},
   "source": [
    "- It was data manupulating uses mathematical operations and statiscal analysis"
   ]
  },
  {
   "cell_type": "markdown",
   "metadata": {},
   "source": [
    "- creating multi dimensional arrays"
   ]
  },
  {
   "cell_type": "code",
   "execution_count": 2,
   "metadata": {},
   "outputs": [
    {
     "name": "stdout",
     "output_type": "stream",
     "text": [
      "[1 2 3 4]\n"
     ]
    }
   ],
   "source": [
    "# create 1d array\n",
    "import numpy\n",
    "a = numpy.array([1,2,3,4])\n",
    "print(a)"
   ]
  },
  {
   "cell_type": "code",
   "execution_count": 5,
   "metadata": {},
   "outputs": [
    {
     "name": "stdout",
     "output_type": "stream",
     "text": [
      "[[1 2 3]\n",
      " [4 5 6]]\n"
     ]
    }
   ],
   "source": [
    "# create 2d array\n",
    "import numpy as np\n",
    "a1 = np.array([[1,2,3],[4,5,6]])\n",
    "print(a1)"
   ]
  },
  {
   "cell_type": "code",
   "execution_count": 6,
   "metadata": {},
   "outputs": [
    {
     "name": "stdout",
     "output_type": "stream",
     "text": [
      "[[1 2 3]\n",
      " [4 5 6]\n",
      " [7 8 9]]\n"
     ]
    }
   ],
   "source": [
    "# create 3d array\n",
    "import numpy as np\n",
    "a2 = np.array([[1,2,3],[4,5,6],[7,8,9]])\n",
    "print(a2)"
   ]
  },
  {
   "cell_type": "code",
   "execution_count": 9,
   "metadata": {},
   "outputs": [
    {
     "data": {
      "text/plain": [
       "2"
      ]
     },
     "execution_count": 9,
     "metadata": {},
     "output_type": "execute_result"
    }
   ],
   "source": [
    "a2.ndim"
   ]
  },
  {
   "cell_type": "code",
   "execution_count": 10,
   "metadata": {},
   "outputs": [
    {
     "data": {
      "text/plain": [
       "4"
      ]
     },
     "execution_count": 10,
     "metadata": {},
     "output_type": "execute_result"
    }
   ],
   "source": [
    "a.size"
   ]
  },
  {
   "cell_type": "code",
   "execution_count": 11,
   "metadata": {},
   "outputs": [
    {
     "data": {
      "text/plain": [
       "6"
      ]
     },
     "execution_count": 11,
     "metadata": {},
     "output_type": "execute_result"
    }
   ],
   "source": [
    "a1.size"
   ]
  },
  {
   "cell_type": "code",
   "execution_count": 12,
   "metadata": {},
   "outputs": [
    {
     "data": {
      "text/plain": [
       "9"
      ]
     },
     "execution_count": 12,
     "metadata": {},
     "output_type": "execute_result"
    }
   ],
   "source": [
    "a2.size"
   ]
  },
  {
   "cell_type": "code",
   "execution_count": 14,
   "metadata": {},
   "outputs": [
    {
     "data": {
      "text/plain": [
       "4"
      ]
     },
     "execution_count": 14,
     "metadata": {},
     "output_type": "execute_result"
    }
   ],
   "source": [
    "a.size"
   ]
  },
  {
   "cell_type": "code",
   "execution_count": 15,
   "metadata": {},
   "outputs": [
    {
     "data": {
      "text/plain": [
       "(2, 3)"
      ]
     },
     "execution_count": 15,
     "metadata": {},
     "output_type": "execute_result"
    }
   ],
   "source": [
    "a1.shape"
   ]
  },
  {
   "cell_type": "markdown",
   "metadata": {},
   "source": [
    "a2.shape"
   ]
  },
  {
   "cell_type": "code",
   "execution_count": 16,
   "metadata": {},
   "outputs": [
    {
     "data": {
      "text/plain": [
       "2"
      ]
     },
     "execution_count": 16,
     "metadata": {},
     "output_type": "execute_result"
    }
   ],
   "source": [
    "a[1]"
   ]
  },
  {
   "cell_type": "code",
   "execution_count": 18,
   "metadata": {},
   "outputs": [
    {
     "data": {
      "text/plain": [
       "array([[1, 2],\n",
       "       [4, 5]])"
      ]
     },
     "execution_count": 18,
     "metadata": {},
     "output_type": "execute_result"
    }
   ],
   "source": [
    "a2[0:2,0:2]"
   ]
  },
  {
   "cell_type": "markdown",
   "metadata": {},
   "source": []
  },
  {
   "cell_type": "code",
   "execution_count": 19,
   "metadata": {},
   "outputs": [
    {
     "data": {
      "text/plain": [
       "array([[6],\n",
       "       [9]])"
      ]
     },
     "execution_count": 19,
     "metadata": {},
     "output_type": "execute_result"
    }
   ],
   "source": [
    "a2[1:,2:]"
   ]
  },
  {
   "cell_type": "code",
   "execution_count": 20,
   "metadata": {},
   "outputs": [
    {
     "data": {
      "text/plain": [
       "0.7308414817899044"
      ]
     },
     "execution_count": 20,
     "metadata": {},
     "output_type": "execute_result"
    }
   ],
   "source": [
    "np .random.random()"
   ]
  },
  {
   "cell_type": "code",
   "execution_count": 21,
   "metadata": {},
   "outputs": [
    {
     "data": {
      "text/plain": [
       "array([0.43747697])"
      ]
     },
     "execution_count": 21,
     "metadata": {},
     "output_type": "execute_result"
    }
   ],
   "source": [
    "np.random.randn(1)"
   ]
  },
  {
   "cell_type": "code",
   "execution_count": 22,
   "metadata": {},
   "outputs": [
    {
     "data": {
      "text/plain": [
       "array([[-0.37070305, -1.31254796, -1.53832462,  0.08873217,  1.3629132 ,\n",
       "         0.64887779,  0.52471475, -1.82358794, -0.11667401,  1.2630786 ]])"
      ]
     },
     "execution_count": 22,
     "metadata": {},
     "output_type": "execute_result"
    }
   ],
   "source": [
    "np .random.randn(1,10)"
   ]
  },
  {
   "cell_type": "code",
   "execution_count": 24,
   "metadata": {},
   "outputs": [
    {
     "data": {
      "text/plain": [
       "array([[[ 0.59531269, -0.81894627,  2.33145005,  1.72769819,\n",
       "          1.05949064,  0.24252511, -0.18401978,  0.47973898,\n",
       "         -0.643617  ,  1.96285839],\n",
       "        [-0.04472416, -0.20977709, -0.65391688,  1.12214965,\n",
       "         -1.18168021, -2.30864336,  0.71690769, -2.00344953,\n",
       "          0.38283874, -1.63968999],\n",
       "        [ 0.01848284, -1.09353597, -0.7289446 , -0.6042997 ,\n",
       "          0.02930306, -0.06832515, -2.00699061,  0.48107437,\n",
       "          0.33468261, -0.18678035],\n",
       "        [-2.28862869, -0.68642947,  0.34375462,  0.55232929,\n",
       "          1.14475379,  0.18391911,  0.84856933,  0.95761746,\n",
       "          1.20874908,  0.72804206],\n",
       "        [-1.51599439,  0.75660122, -2.12865502, -2.20493543,\n",
       "          0.59859239,  0.40352946,  0.54406123, -0.51089403,\n",
       "          1.42806954,  0.24569618],\n",
       "        [ 0.90410039,  0.39512161,  0.8780354 ,  0.61161065,\n",
       "          0.19487791,  0.22834976, -0.03557413,  0.42280488,\n",
       "         -0.73049151,  0.60965991],\n",
       "        [ 0.16091068, -1.04300899, -0.25322681, -2.06554175,\n",
       "          2.35117935,  0.72549935,  0.70747109, -1.08271   ,\n",
       "          1.01402281, -0.1124515 ],\n",
       "        [ 0.52026286,  2.55764415,  0.19099321,  1.34776246,\n",
       "          2.31969188,  0.28147848,  0.61793429,  0.02209718,\n",
       "         -0.28747214,  0.61135965],\n",
       "        [-0.76083407, -0.59053518, -0.3446876 ,  0.16960452,\n",
       "         -0.31303138, -0.72743204,  1.50846897,  0.19251093,\n",
       "         -1.05175083, -1.72228321],\n",
       "        [-0.8579463 , -0.51855504, -1.10304634,  0.46951869,\n",
       "         -1.17488115,  0.4609853 , -0.74984137, -1.19997625,\n",
       "          0.14927394, -0.10575931],\n",
       "        [ 1.06294398, -0.49970543,  0.94881362,  2.30986285,\n",
       "          0.35821611,  0.00325208, -0.74826497,  1.55167867,\n",
       "          0.32319151,  0.51281369],\n",
       "        [-1.44966586, -2.01925031,  1.68437093,  0.01995277,\n",
       "          0.89818122, -0.05507819,  0.56451247, -1.15593086,\n",
       "         -0.16202726, -1.47507959],\n",
       "        [-0.86361987, -0.67085128,  1.23265369,  0.54558024,\n",
       "         -0.68847111,  1.50504865, -0.56915444, -0.48666798,\n",
       "          1.82017314,  0.44064151],\n",
       "        [ 0.21124783, -0.17077292,  2.03335869,  0.35460824,\n",
       "          1.50429917,  0.86682473, -0.43672954,  2.20154476,\n",
       "         -1.6120182 ,  0.64412291],\n",
       "        [ 0.66352119,  0.76790743, -1.31669419, -0.96285125,\n",
       "          0.18559583, -0.87185204, -1.38502231, -0.40399823,\n",
       "          0.89216917, -0.21056274],\n",
       "        [-0.22809874, -0.56745545, -1.4348841 , -0.20878798,\n",
       "         -0.54495699, -0.75014169,  0.54841052, -0.09304596,\n",
       "          1.1811535 , -0.90271688],\n",
       "        [-0.30888136, -0.13958328, -1.8134428 ,  1.61955708,\n",
       "          0.02069889, -0.36367907, -0.79507982,  0.75767768,\n",
       "         -1.2212701 ,  0.37508911],\n",
       "        [ 0.76849312,  0.61440991,  0.59668863,  0.74215841,\n",
       "         -0.05356075,  1.87289474,  1.13816498,  0.17724493,\n",
       "          0.67704099,  1.39251437],\n",
       "        [-0.86370068, -0.01281604, -0.10630977,  1.77180216,\n",
       "          0.44835729, -0.15284572, -1.03414823,  0.11237927,\n",
       "          0.08199848,  0.15226345],\n",
       "        [ 0.27299285, -1.68492704,  0.47937329,  0.11080291,\n",
       "          1.40059119,  1.01010615, -0.79607489,  0.12454134,\n",
       "          1.36230315,  2.46160819]]])"
      ]
     },
     "execution_count": 24,
     "metadata": {},
     "output_type": "execute_result"
    }
   ],
   "source": [
    "np .random.randn(1,20,10)"
   ]
  },
  {
   "cell_type": "code",
   "execution_count": 26,
   "metadata": {},
   "outputs": [
    {
     "name": "stdout",
     "output_type": "stream",
     "text": [
      "[10 10  1  7 14  8 17  9 12  4  4  8 17 10 10]\n"
     ]
    }
   ],
   "source": [
    "a=np.random.randint(1,20,15)\n",
    "print(a)"
   ]
  },
  {
   "cell_type": "code",
   "execution_count": null,
   "metadata": {},
   "outputs": [],
   "source": []
  },
  {
   "cell_type": "code",
   "execution_count": null,
   "metadata": {},
   "outputs": [],
   "source": []
  }
 ],
 "metadata": {
  "kernelspec": {
   "display_name": "Python 3",
   "language": "python",
   "name": "python3"
  },
  "language_info": {
   "codemirror_mode": {
    "name": "ipython",
    "version": 3
   },
   "file_extension": ".py",
   "mimetype": "text/x-python",
   "name": "python",
   "nbconvert_exporter": "python",
   "pygments_lexer": "ipython3",
   "version": "3.8.5"
  }
 },
 "nbformat": 4,
 "nbformat_minor": 4
}
